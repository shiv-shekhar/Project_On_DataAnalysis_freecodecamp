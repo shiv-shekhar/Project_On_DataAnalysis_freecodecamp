{
  "nbformat": 4,
  "nbformat_minor": 0,
  "metadata": {
    "colab": {
      "name": "mean-variance-sd_Calculator.ipynb",
      "provenance": []
    },
    "kernelspec": {
      "name": "python3",
      "display_name": "Python 3"
    }
  },
  "cells": [
    {
      "cell_type": "code",
      "metadata": {
        "id": "5abiJ3P7fIOL"
      },
      "source": [
        "import numpy as np  #import numpy "
      ],
      "execution_count": null,
      "outputs": []
    },
    {
      "cell_type": "code",
      "metadata": {
        "colab": {
          "base_uri": "https://localhost:8080/"
        },
        "id": "zytyVWrJfE-k",
        "outputId": "78d91f9d-0255-4dbf-acc0-9f73ac76b54d"
      },
      "source": [
        "a = list(map(int, input().split())) # take nine integer input from the user"
      ],
      "execution_count": null,
      "outputs": [
        {
          "output_type": "stream",
          "text": [
            "1 2 3 4 5 6 7 8 9\n"
          ],
          "name": "stdout"
        }
      ]
    },
    {
      "cell_type": "code",
      "metadata": {
        "colab": {
          "base_uri": "https://localhost:8080/"
        },
        "id": "SZNQKQ_RgGBL",
        "outputId": "857d7533-bf2f-4102-c689-13b855942a87"
      },
      "source": [
        "mtrx = np.array(a).reshape(3, 3)\r\n",
        "print(mtrx)"
      ],
      "execution_count": null,
      "outputs": [
        {
          "output_type": "stream",
          "text": [
            "[[1 2 3]\n",
            " [4 5 6]\n",
            " [7 8 9]]\n"
          ],
          "name": "stdout"
        }
      ]
    },
    {
      "cell_type": "code",
      "metadata": {
        "colab": {
          "base_uri": "https://localhost:8080/"
        },
        "id": "lhoOpUG8fmv7",
        "outputId": "fc9fc954-6a81-4a27-f3e2-6986b7023a9d"
      },
      "source": [
        "def calculate(a):\r\n",
        "    eval = dict()\r\n",
        "    mtrx = np.array(a).reshape(3, 3)\r\n",
        "    eval[\"mean\"] = [mtrx.mean(0).tolist(), mtrx.mean(1).tolist(), mtrx.mean()]\r\n",
        "    eval[\"variance\"] = [mtrx.var(0).tolist(), mtrx.var(1).tolist(), mtrx.var()]\r\n",
        "    eval[\"standared deviation\"] = [mtrx.std(0).tolist(), mtrx.std(1).tolist(), mtrx.std()]\r\n",
        "    eval[\"sum\"] = [mtrx.sum(0).tolist(), mtrx.sum(1).tolist(), mtrx.sum()]\r\n",
        "    eval[\"max\"] = [mtrx.max(0).tolist(), mtrx.max(1).tolist(), mtrx.max()]\r\n",
        "    eval[\"min\"] = [mtrx.min(0).tolist(), mtrx.min(1).tolist(), mtrx.min()]\r\n",
        "    \r\n",
        "    return eval\r\n",
        "\r\n",
        "calculate(a)\r\n",
        "  "
      ],
      "execution_count": null,
      "outputs": [
        {
          "output_type": "execute_result",
          "data": {
            "text/plain": [
              "{'max': [[7, 8, 9], [3, 6, 9], 9],\n",
              " 'mean': [[4.0, 5.0, 6.0], [2.0, 5.0, 8.0], 5.0],\n",
              " 'min': [[1, 2, 3], [1, 4, 7], 1],\n",
              " 'standared deviation': [[2.449489742783178,\n",
              "   2.449489742783178,\n",
              "   2.449489742783178],\n",
              "  [0.816496580927726, 0.816496580927726, 0.816496580927726],\n",
              "  2.581988897471611],\n",
              " 'sum': [[12, 15, 18], [6, 15, 24], 45],\n",
              " 'variance': [[6.0, 6.0, 6.0],\n",
              "  [0.6666666666666666, 0.6666666666666666, 0.6666666666666666],\n",
              "  6.666666666666667]}"
            ]
          },
          "metadata": {
            "tags": []
          },
          "execution_count": 6
        }
      ]
    }
  ]
}